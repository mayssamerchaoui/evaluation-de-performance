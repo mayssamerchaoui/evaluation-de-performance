{
 "cells": [
  {
   "cell_type": "code",
   "execution_count": 40,
   "metadata": {},
   "outputs": [],
   "source": [
    "import random \n",
    "import matplotlib.pyplot as plt "
   ]
  },
  {
   "cell_type": "code",
   "execution_count": 41,
   "metadata": {},
   "outputs": [],
   "source": [
    "def Xn(t,n):\n",
    "    x=0\n",
    "    for j in t :\n",
    "        x=x+j\n",
    "    return x/n "
   ]
  },
  {
   "cell_type": "code",
   "execution_count": 42,
   "metadata": {},
   "outputs": [],
   "source": [
    "def On(t,n,xn):\n",
    "    tita = 0\n",
    "    for i in t :\n",
    "        tita=tita+(i-xn)**2\n",
    "    return tita/n "
   ]
  },
  {
   "cell_type": "code",
   "execution_count": 43,
   "metadata": {},
   "outputs": [],
   "source": [
    "def creat_alea_table(n):\n",
    "    t=[]\n",
    "    for i in range(n+1):\n",
    "        t.append(random.uniform(0, 1))\n",
    "    return t "
   ]
  },
  {
   "cell_type": "code",
   "execution_count": 44,
   "metadata": {},
   "outputs": [
    {
     "data": {
      "image/png": "[encoded data removed]",
      "text/plain": [
       "<Figure size 432x288 with 1 Axes>"
      ]
     },
     "metadata": {
      "needs_background": "light"
     },
     "output_type": "display_data"
    },
    {
     "name": "stdout",
     "output_type": "stream",
     "text": [
      "les valeur aleatoire 1000 leur moyenne0.4994767713908953 et leur variance 0.08332392787747765\n",
      "les valeur aleatoire 10000 leur moyenne0.5031849760848383 et leur variance 0.08255322524817889\n",
      "les valeur aleatoire 100000 leur moyenne0.5013356375804353 et leur variance 0.08288581268396876\n",
      "les valeur aleatoire 1000000 leur moyenne0.5002071458348617 et leur variance 0.08326432146177806\n"
     ]
    }
   ],
   "source": [
    "n=[1000,10000,100000,1000000]\n",
    "titatable=[]\n",
    "xn=[]\n",
    "for i in n :\n",
    "    t=creat_alea_table(i)\n",
    "    xn.append(Xn(t,i))\n",
    "    titatable.append(On(t,i,Xn(t,i)))\n",
    "    \n",
    "plt.plot(n,titatable, 'r*')\n",
    "plt.plot(n,xn, 'b*')\n",
    "plt.show()\n",
    "for i in range(len(n)):\n",
    "    print ('les valeur aleatoire {} leur moyenne{} et leur variance {}'.format(n[i],xn[i],titatable[i]))"
   ]
  },
  {
   "cell_type": "code",
   "execution_count": 45,
   "metadata": {},
   "outputs": [],
   "source": [
    "import numpy as np"
   ]
  },
  {
   "cell_type": "code",
   "execution_count": 46,
   "metadata": {},
   "outputs": [],
   "source": [
    "def creat_alea_table(n,lamda):\n",
    "    t=np.random.exponential(1/lamda,n)\n",
    "    return t "
   ]
  },
  {
   "cell_type": "code",
   "execution_count": 47,
   "metadata": {},
   "outputs": [
    {
     "name": "stdout",
     "output_type": "stream",
     "text": [
      "50.020714583486175\n"
     ]
    }
   ],
   "source": [
    "print(Xn(t,10000))\n"
   ]
  },
  {
   "cell_type": "code",
   "execution_count": 48,
   "metadata": {},
   "outputs": [
    {
     "name": "stderr",
     "output_type": "stream",
     "text": [
      "<ipython-input-48-28cff8bdb6f3>:13: MatplotlibDeprecationWarning: Adding an axes using the same arguments as a previous axes currently reuses the earlier instance.  In a future version, a new instance will always be created and returned.  Meanwhile, this warning can be suppressed, and the future behavior ensured, by passing a unique label to each axes instance.\n",
      "  plt.subplot(2,2,1)\n",
      "<ipython-input-48-28cff8bdb6f3>:15: MatplotlibDeprecationWarning: Adding an axes using the same arguments as a previous axes currently reuses the earlier instance.  In a future version, a new instance will always be created and returned.  Meanwhile, this warning can be suppressed, and the future behavior ensured, by passing a unique label to each axes instance.\n",
      "  plt.subplot(2,2,2)\n"
     ]
    },
    {
     "data": {
      "image/png": "[encoded data removed]",
      "text/plain": [
       "<Figure size 432x288 with 2 Axes>"
      ]
     },
     "metadata": {
      "needs_background": "light"
     },
     "output_type": "display_data"
    }
   ],
   "source": [
    "xn=[[]]*4 \n",
    "titatable=[[]]*4  \n",
    "from ipykernel import kernelapp as app\n",
    "lamda=[10,100,1000,10000]\n",
    "\n",
    "\n",
    "for i in range(4):\n",
    "    for j in range(4):\n",
    "        t=creat_alea_table(n[i],lamda[j])\n",
    "        x=Xn(t,n[i])\n",
    "        xn[i].append([x])\n",
    "        titatable[i].append([On(t,n[i],x)])\n",
    "        plt.subplot(2,2,1)\n",
    "        plt.plot(lamda[j],titatable[i][j],'ro')\n",
    "        plt.subplot(2,2,2)\n",
    "        plt.plot(lamda[j],x,'bo')\n",
    "\n",
    "plt.show()\n",
    "\n",
    "        "
   ]
  },
  {
   "cell_type": "code",
   "execution_count": 49,
   "metadata": {},
   "outputs": [
    {
     "name": "stdout",
     "output_type": "stream",
     "text": [
      "[3 0 4 5 1]\n"
     ]
    }
   ],
   "source": [
    "def creat_alea_table(n):\n",
    "    return np.random.randint(0,n+1,n)\n",
    "print(creat_alea_table(5))"
   ]
  },
  {
   "cell_type": "code",
   "execution_count": 50,
   "metadata": {},
   "outputs": [
    {
     "name": "stderr",
     "output_type": "stream",
     "text": [
      "<ipython-input-41-311631902cbf>:4: RuntimeWarning: overflow encountered in long_scalars\n",
      "  x=x+j\n"
     ]
    },
    {
     "name": "stdout",
     "output_type": "stream",
     "text": [
      "les valeur 1000 leur moyenne 499.569 leur variance 86108.99323899997\n",
      "les valeur 10000 leur moyenne 4987.2068 leur variance 8278903.140233722\n",
      "les valeur 100000 leur moyenne 7142.84727 leur variance 2679416662.5523796\n",
      "les valeur 1000000 leur moyenne 1847.775461 leur variance 331476329872.5215\n"
     ]
    },
    {
     "data": {
      "image/png": "[encoded data removed]",
      "text/plain": [
       "<Figure size 432x288 with 2 Axes>"
      ]
     },
     "metadata": {
      "needs_background": "light"
     },
     "output_type": "display_data"
    }
   ],
   "source": [
    "plt.style.use('seaborn-deep')\n",
    "xn=[]\n",
    "tita=[]\n",
    "for i in n:\n",
    "    t=creat_alea_table(i)\n",
    "    x=Xn(t,i)\n",
    "    xn.append(x)\n",
    "    tita.append(On(t,i,x))\n",
    "plt.subplot(2,2,1)\n",
    "plt.plot(n,tita,'r*')\n",
    "plt.subplot(2,2,2)\n",
    "plt.plot(n,xn,'b*')\n",
    "for i in range(len(n)):\n",
    "    print('les valeur {} leur moyenne {} leur variance {}'.format(n[i],xn[i],tita[i]))"
   ]
  },
  {
   "cell_type": "code",
   "execution_count": 61,
   "metadata": {},
   "outputs": [],
   "source": [
    "def creat_tabe(n):\n",
    "    x=[]\n",
    "    t=np.random.uniform(0, 1,n)\n",
    "    for i in t:\n",
    "        if i<0.3:\n",
    "            x.append(0)\n",
    "        elif i<0.5:\n",
    "            x.append(2)\n",
    "        else:\n",
    "            x.append(6)\n",
    "    return x"
   ]
  },
  {
   "cell_type": "code",
   "execution_count": 63,
   "metadata": {},
   "outputs": [
    {
     "name": "stdout",
     "output_type": "stream",
     "text": [
      "valeur aleatoire1000 leur moyenne 3.456 leur variance 7.304063999999935\n",
      "valeur aleatoire10000 leur moyenne 3.3744 leur variance 7.2638246399990445\n",
      "valeur aleatoire100000 leur moyenne 3.40386 leur variance 7.245697100397858\n",
      "valeur aleatoire1000000 leur moyenne 3.402838 leur variance 7.235777545723555\n"
     ]
    }
   ],
   "source": [
    "xn=[] \n",
    "tita=[]\n",
    "for i in n:\n",
    "    t=creat_tabe(i)\n",
    "    x=Xn(t,i)\n",
    "    xn.append(x)\n",
    "    tita.append(On(t,i,x))\n",
    "for i in range (len(n)):\n",
    "    print ('valeur aleatoire{} leur moyenne {} leur variance {}'.format ( n[i],xn[i],tita[i]))"
   ]
  },
  {
   "cell_type": "code",
   "execution_count": null,
   "metadata": {},
   "outputs": [],
   "source": []
  },
  {
   "cell_type": "code",
   "execution_count": null,
   "metadata": {},
   "outputs": [],
   "source": []
  }
 ],
 "metadata": {
  "kernelspec": {
   "display_name": "Python 3",
   "language": "python",
   "name": "python3"
  },
  "language_info": {
   "codemirror_mode": {
    "name": "ipython",
    "version": 3
   },
   "file_extension": ".py",
   "mimetype": "text/x-python",
   "name": "python",
   "nbconvert_exporter": "python",
   "pygments_lexer": "ipython3",
   "version": "3.8.3"
  }
 },
 "nbformat": 4,
 "nbformat_minor": 4
}
