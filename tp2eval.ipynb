{
 "cells": [
  {
   "cell_type": "code",
   "execution_count": null,
   "metadata": {},
   "outputs": [],
   "source": [
    "import tkinter as tk \n",
    "from tkinter import Label,Entry \n",
    "import os, _thread\n",
    "    \n",
    "\n",
    "def run_proc():\n",
    "    \n",
    "    os.system (r\"C:\\Users\\LENOVO\\eval\\dos\\procexp.exe\")#le chemin de l'emplacement de logiciel process explorer \n",
    "\n",
    "def para_window(): \n",
    "\n",
    "    win_2 = tk.Tk() #creation d'une interface 2  avec la bibliothéque tkinter comme tk \n",
    "    win_2.title(\"Disk Banch paramétre\") #titre de la fenetre quand on clique sur le bouton Dsik bench\n",
    "    win_2.geometry(\"400x300\")\n",
    "    frame_2 = tk.Frame(win_2)#creation  de la fentre \n",
    "    frame_2.pack()\n",
    "    txt_2=Label(frame_2,text=\"Combien de Disk voulez-vous ?\")#label contient le text \"combien de disk coulez-vous?\"\n",
    "    txt_2.grid(row=0,column=3,pady=20,padx=100)\n",
    "    box=Entry(frame_2)      \n",
    "    box.grid(row=1,column=3)\n",
    "    btn_valide = tk.Button(frame_2,text=\"Valider\",fg=\"red\") \n",
    "    btn_valide.grid(row=2,column=3,pady=10,padx=100)\n",
    "    try: #fonction essayé si bien excuté alors on avoir les fentres de disk bench si nn un mesg \"non\" sera affichié \n",
    "        \n",
    "        def open_disk():#la fonction open_disk permet d'ouvrir le disk banch \n",
    "            os.system(r\"C:\\Users\\LENOVO\\eval\\dos\\DiskBench.exe\")#le chemin de l'emplacement de logiciel disk bench\n",
    "\n",
    "        def run_disk():#la fonction \"run_disk\" permet d'avoir la nombre de disk souhaité n  puis ouvrir n fentre  et enfin l'affihcgae \n",
    "            n=int(float(box.get()))#avoir la valeur entré de nmbre de disk souhaité \n",
    "\n",
    "            for i in range(1,n+1):\n",
    "        \n",
    "                _thread.start_new_thread(open_disk,()) #Pour la synchronisation on a utliser \"_thread\" c'est comme des processus ou tâches léger.On a Démarré un nouveau thread et renvoyé son identifiant.Le thread exécute la fonction la  open.disk()\n",
    "            win_2.destroy #la fonction \".destory()\" permet de  détruire les composants de l'interface graphique pour libérer la mémoire et effacer l'écran\n",
    "    \n",
    "        btn_valide.config(command=run_disk)\n",
    "        \n",
    "        \n",
    "    except ValueError:#sil ya une erreur retourner \"non\"\n",
    "       return \"non\"\n",
    "\n",
    "\n",
    "win = tk.Tk()#creation d'une interface principale  avec la bibliothéque tkinter comme tk \n",
    "win.title(\"Evaluation de Performance TP2\")\n",
    "win.geometry(\"600x300\")\n",
    "frame = tk.Frame(win)#creation de la fentre \n",
    "frame.pack()\n",
    "btn_cpu = tk.Button(frame,text=\"DISK BENCH\",fg=\"blue\",height=\"3\",command=para_window)#creation de bouton \"Disk bench\" et lorqu'on clique sur le bouton on excute la fonction \"para_window\"\n",
    "btn_cpu.grid(row=0,column=3,pady=10,padx=100)\n",
    "btn_disk = tk.Button(frame,text=\"Process Explorer\",fg=\"green\",height=\"3\",width=\"12\",command=run_proc)#creation de bouton \"Process explorer\" et lorqu'on clique sur le bouton on excute la fonction \"run_proc\"\n",
    "btn_disk.grid(row=1,column=3,pady=10,padx=100)\n",
    "\n",
    "txt=Label(frame,text=\"©Mayssa Merchaoui & Chiheb Ben Jemaa\", fg = \"orange\")\n",
    "txt.grid(row=3,column=3,pady=50,padx=100)\n",
    "\n",
    "win.mainloop()#affichier l'interface principale "
   ]
  },
  {
   "cell_type": "code",
   "execution_count": null,
   "metadata": {},
   "outputs": [],
   "source": []
  },
  {
   "cell_type": "code",
   "execution_count": null,
   "metadata": {},
   "outputs": [],
   "source": []
  },
  {
   "cell_type": "code",
   "execution_count": null,
   "metadata": {},
   "outputs": [],
   "source": []
  },
  {
   "cell_type": "code",
   "execution_count": null,
   "metadata": {},
   "outputs": [],
   "source": []
  },
  {
   "cell_type": "code",
   "execution_count": null,
   "metadata": {},
   "outputs": [],
   "source": []
  },
  {
   "cell_type": "code",
   "execution_count": null,
   "metadata": {},
   "outputs": [],
   "source": []
  },
  {
   "cell_type": "code",
   "execution_count": null,
   "metadata": {},
   "outputs": [],
   "source": []
  },
  {
   "cell_type": "code",
   "execution_count": null,
   "metadata": {},
   "outputs": [],
   "source": []
  }
 ],
 "metadata": {
  "kernelspec": {
   "display_name": "Python 3",
   "language": "python",
   "name": "python3"
  },
  "language_info": {
   "codemirror_mode": {
    "name": "ipython",
    "version": 3
   },
   "file_extension": ".py",
   "mimetype": "text/x-python",
   "name": "python",
   "nbconvert_exporter": "python",
   "pygments_lexer": "ipython3",
   "version": "3.8.3"
  }
 },
 "nbformat": 4,
 "nbformat_minor": 4
}
